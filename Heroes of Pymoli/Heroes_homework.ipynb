{
 "cells": [
  {
   "cell_type": "markdown",
   "metadata": {},
   "source": [
    "## Heroes Of Pymoli Data Analysis\n",
    "* Of the 1163 active players, the vast majority are male (84%). There also exists, a smaller, but notable proportion of female players (14%).\n",
    "\n",
    "* Our peak age demographic falls between 20-24 (44.8%) with secondary groups falling between 15-19 (18.60%) and 25-29 (13.4%).  \n",
    "-----"
   ]
  },
  {
   "cell_type": "code",
   "execution_count": 1,
   "metadata": {},
   "outputs": [],
   "source": [
    "# Dependencies and Setup\n",
    "import pandas as pd\n",
    "\n",
    "# File to Load (Remember to Change These)\n",
    "file_to_load = \"Resources/purchase_data.csv\"\n",
    "\n",
    "# Read Purchasing File and store into Pandas data frame\n",
    "purchase_data = pd.read_csv(file_to_load)"
   ]
  },
  {
   "cell_type": "code",
   "execution_count": 2,
   "metadata": {},
   "outputs": [
    {
     "data": {
      "text/html": [
       "<div>\n",
       "<style scoped>\n",
       "    .dataframe tbody tr th:only-of-type {\n",
       "        vertical-align: middle;\n",
       "    }\n",
       "\n",
       "    .dataframe tbody tr th {\n",
       "        vertical-align: top;\n",
       "    }\n",
       "\n",
       "    .dataframe thead th {\n",
       "        text-align: right;\n",
       "    }\n",
       "</style>\n",
       "<table border=\"1\" class=\"dataframe\">\n",
       "  <thead>\n",
       "    <tr style=\"text-align: right;\">\n",
       "      <th></th>\n",
       "      <th>Purchase ID</th>\n",
       "      <th>SN</th>\n",
       "      <th>Age</th>\n",
       "      <th>Gender</th>\n",
       "      <th>Item ID</th>\n",
       "      <th>Item Name</th>\n",
       "      <th>Price</th>\n",
       "    </tr>\n",
       "  </thead>\n",
       "  <tbody>\n",
       "    <tr>\n",
       "      <th>0</th>\n",
       "      <td>0</td>\n",
       "      <td>Lisim78</td>\n",
       "      <td>20</td>\n",
       "      <td>Male</td>\n",
       "      <td>108</td>\n",
       "      <td>Extraction, Quickblade Of Trembling Hands</td>\n",
       "      <td>3.53</td>\n",
       "    </tr>\n",
       "    <tr>\n",
       "      <th>1</th>\n",
       "      <td>1</td>\n",
       "      <td>Lisovynya38</td>\n",
       "      <td>40</td>\n",
       "      <td>Male</td>\n",
       "      <td>143</td>\n",
       "      <td>Frenzied Scimitar</td>\n",
       "      <td>1.56</td>\n",
       "    </tr>\n",
       "    <tr>\n",
       "      <th>2</th>\n",
       "      <td>2</td>\n",
       "      <td>Ithergue48</td>\n",
       "      <td>24</td>\n",
       "      <td>Male</td>\n",
       "      <td>92</td>\n",
       "      <td>Final Critic</td>\n",
       "      <td>4.88</td>\n",
       "    </tr>\n",
       "    <tr>\n",
       "      <th>3</th>\n",
       "      <td>3</td>\n",
       "      <td>Chamassasya86</td>\n",
       "      <td>24</td>\n",
       "      <td>Male</td>\n",
       "      <td>100</td>\n",
       "      <td>Blindscythe</td>\n",
       "      <td>3.27</td>\n",
       "    </tr>\n",
       "    <tr>\n",
       "      <th>4</th>\n",
       "      <td>4</td>\n",
       "      <td>Iskosia90</td>\n",
       "      <td>23</td>\n",
       "      <td>Male</td>\n",
       "      <td>131</td>\n",
       "      <td>Fury</td>\n",
       "      <td>1.44</td>\n",
       "    </tr>\n",
       "  </tbody>\n",
       "</table>\n",
       "</div>"
      ],
      "text/plain": [
       "   Purchase ID             SN  Age Gender  Item ID  \\\n",
       "0            0        Lisim78   20   Male      108   \n",
       "1            1    Lisovynya38   40   Male      143   \n",
       "2            2     Ithergue48   24   Male       92   \n",
       "3            3  Chamassasya86   24   Male      100   \n",
       "4            4      Iskosia90   23   Male      131   \n",
       "\n",
       "                                   Item Name  Price  \n",
       "0  Extraction, Quickblade Of Trembling Hands   3.53  \n",
       "1                          Frenzied Scimitar   1.56  \n",
       "2                               Final Critic   4.88  \n",
       "3                                Blindscythe   3.27  \n",
       "4                                       Fury   1.44  "
      ]
     },
     "execution_count": 2,
     "metadata": {},
     "output_type": "execute_result"
    }
   ],
   "source": [
    "purchase_data.head()\n"
   ]
  },
  {
   "cell_type": "code",
   "execution_count": 3,
   "metadata": {},
   "outputs": [
    {
     "data": {
      "text/plain": [
       "(780, 7)"
      ]
     },
     "execution_count": 3,
     "metadata": {},
     "output_type": "execute_result"
    }
   ],
   "source": [
    "purchase_data.shape"
   ]
  },
  {
   "cell_type": "markdown",
   "metadata": {},
   "source": [
    "## Player Count\n",
    "* Display the total number of players"
   ]
  },
  {
   "cell_type": "code",
   "execution_count": 4,
   "metadata": {},
   "outputs": [
    {
     "data": {
      "text/html": [
       "<div>\n",
       "<style scoped>\n",
       "    .dataframe tbody tr th:only-of-type {\n",
       "        vertical-align: middle;\n",
       "    }\n",
       "\n",
       "    .dataframe tbody tr th {\n",
       "        vertical-align: top;\n",
       "    }\n",
       "\n",
       "    .dataframe thead th {\n",
       "        text-align: right;\n",
       "    }\n",
       "</style>\n",
       "<table border=\"1\" class=\"dataframe\">\n",
       "  <thead>\n",
       "    <tr style=\"text-align: right;\">\n",
       "      <th></th>\n",
       "      <th>Total Players</th>\n",
       "    </tr>\n",
       "  </thead>\n",
       "  <tbody>\n",
       "    <tr>\n",
       "      <th>0</th>\n",
       "      <td>576</td>\n",
       "    </tr>\n",
       "  </tbody>\n",
       "</table>\n",
       "</div>"
      ],
      "text/plain": [
       "   Total Players\n",
       "0            576"
      ]
     },
     "execution_count": 4,
     "metadata": {},
     "output_type": "execute_result"
    }
   ],
   "source": [
    "pd.DataFrame({\"Total Players\": [len(purchase_data[\"SN\"].unique())]})"
   ]
  },
  {
   "cell_type": "markdown",
   "metadata": {},
   "source": [
    "## Purchasing Analysis (Total)"
   ]
  },
  {
   "cell_type": "markdown",
   "metadata": {},
   "source": [
    "* Run basic calculations to obtain number of unique items, average price, etc.\n",
    "\n",
    "\n",
    "* Create a summary data frame to hold the results\n",
    "\n",
    "\n",
    "* Optional: give the displayed data cleaner formatting\n",
    "\n",
    "\n",
    "* Display the summary data frame\n"
   ]
  },
  {
   "cell_type": "code",
   "execution_count": 5,
   "metadata": {
    "scrolled": true
   },
   "outputs": [],
   "source": [
    "items = len(purchase_data[\"Item Name\"].unique())\n",
    "average_price = purchase_data[\"Price\"].mean()\n",
    "purchases = len(purchase_data[\"Purchase ID\"])\n",
    "revenue = purchase_data[\"Price\"].sum()"
   ]
  },
  {
   "cell_type": "code",
   "execution_count": 6,
   "metadata": {},
   "outputs": [
    {
     "data": {
      "text/html": [
       "<div>\n",
       "<style scoped>\n",
       "    .dataframe tbody tr th:only-of-type {\n",
       "        vertical-align: middle;\n",
       "    }\n",
       "\n",
       "    .dataframe tbody tr th {\n",
       "        vertical-align: top;\n",
       "    }\n",
       "\n",
       "    .dataframe thead th {\n",
       "        text-align: right;\n",
       "    }\n",
       "</style>\n",
       "<table border=\"1\" class=\"dataframe\">\n",
       "  <thead>\n",
       "    <tr style=\"text-align: right;\">\n",
       "      <th></th>\n",
       "      <th>Number of Unique Items</th>\n",
       "      <th>Average Price</th>\n",
       "      <th>Number of Purchases</th>\n",
       "      <th>Total Revenue</th>\n",
       "    </tr>\n",
       "  </thead>\n",
       "  <tbody>\n",
       "    <tr>\n",
       "      <th>0</th>\n",
       "      <td>179</td>\n",
       "      <td>$3.05</td>\n",
       "      <td>780</td>\n",
       "      <td>$2379.77</td>\n",
       "    </tr>\n",
       "  </tbody>\n",
       "</table>\n",
       "</div>"
      ],
      "text/plain": [
       "  Number of Unique Items Average Price Number of Purchases Total Revenue\n",
       "0                    179         $3.05                 780      $2379.77"
      ]
     },
     "execution_count": 6,
     "metadata": {},
     "output_type": "execute_result"
    }
   ],
   "source": [
    "purchasing_analysis = pd.DataFrame({\"Number of Unique Items\":[items],\n",
    "             \"Average Price\":[average_price],\n",
    "             \"Number of Purchases\":[purchases],\n",
    "             \"Total Revenue\":[revenue]})\n",
    "\n",
    "purchasing_analysis[\"Number of Unique Items\"] = purchasing_analysis[\"Number of Unique Items\"].map(\"{:.0f}\".format)\n",
    "purchasing_analysis[\"Average Price\"] = purchasing_analysis[\"Average Price\"].map(\"${:.2f}\".format)\n",
    "purchasing_analysis[\"Number of Purchases\"] = purchasing_analysis[\"Number of Purchases\"].map(\"{:.0f}\".format)\n",
    "purchasing_analysis[\"Total Revenue\"] = purchasing_analysis[\"Total Revenue\"].map(\"${:.2f}\".format)\n",
    "purchasing_analysis"
   ]
  },
  {
   "cell_type": "markdown",
   "metadata": {},
   "source": [
    "## Gender Demographics\n",
    "* Percentage and Count of Male Players\n",
    "* Percentage and COunt of Female Players\n",
    "* Percentage and Counf of Other / Non-Disclosed\n"
   ]
  },
  {
   "cell_type": "code",
   "execution_count": 7,
   "metadata": {},
   "outputs": [
    {
     "data": {
      "text/html": [
       "<style  type=\"text/css\" >\n",
       "</style><table id=\"T_43576539_0c57_11eb_8f57_405bd843ed64\" ><thead>    <tr>        <th class=\"blank level0\" ></th>        <th class=\"col_heading level0 col0\" >Total Count</th>        <th class=\"col_heading level0 col1\" >Percentage of Players</th>    </tr></thead><tbody>\n",
       "                <tr>\n",
       "                        <th id=\"T_43576539_0c57_11eb_8f57_405bd843ed64level0_row0\" class=\"row_heading level0 row0\" >Male</th>\n",
       "                        <td id=\"T_43576539_0c57_11eb_8f57_405bd843ed64row0_col0\" class=\"data row0 col0\" >484</td>\n",
       "                        <td id=\"T_43576539_0c57_11eb_8f57_405bd843ed64row0_col1\" class=\"data row0 col1\" >84.03%</td>\n",
       "            </tr>\n",
       "            <tr>\n",
       "                        <th id=\"T_43576539_0c57_11eb_8f57_405bd843ed64level0_row1\" class=\"row_heading level0 row1\" >Female</th>\n",
       "                        <td id=\"T_43576539_0c57_11eb_8f57_405bd843ed64row1_col0\" class=\"data row1 col0\" >81</td>\n",
       "                        <td id=\"T_43576539_0c57_11eb_8f57_405bd843ed64row1_col1\" class=\"data row1 col1\" >14.06%</td>\n",
       "            </tr>\n",
       "            <tr>\n",
       "                        <th id=\"T_43576539_0c57_11eb_8f57_405bd843ed64level0_row2\" class=\"row_heading level0 row2\" >Other / Non-Disclosed</th>\n",
       "                        <td id=\"T_43576539_0c57_11eb_8f57_405bd843ed64row2_col0\" class=\"data row2 col0\" >11</td>\n",
       "                        <td id=\"T_43576539_0c57_11eb_8f57_405bd843ed64row2_col1\" class=\"data row2 col1\" >1.91%</td>\n",
       "            </tr>\n",
       "    </tbody></table>"
      ],
      "text/plain": [
       "<pandas.io.formats.style.Styler at 0x1700f77ce20>"
      ]
     },
     "execution_count": 7,
     "metadata": {},
     "output_type": "execute_result"
    }
   ],
   "source": [
    "gender_df = purchase_data.drop_duplicates(subset=[\"SN\"])\n",
    "gender_df = gender_df[\"Gender\"].value_counts().to_frame() \n",
    "gender_df = gender_df.rename(columns={\"Gender\":\"Total Count\"})\n",
    "gender_df[\"Percentage of Players\"] = (gender_df[\"Total Count\"] / gender_df[\"Total Count\"].sum())\n",
    "gender_df = gender_df.style.format({\"Percentage of Players\":'{:.2%}'})\n",
    "gender_df"
   ]
  },
  {
   "cell_type": "markdown",
   "metadata": {},
   "source": [
    "## Purchasing Analysis (Gender)"
   ]
  },
  {
   "cell_type": "markdown",
   "metadata": {},
   "source": [
    "* Run basic calculations to obtain purchase count, avg. purchase price, avg. purchase total per person etc. by gender\n",
    "\n",
    "\n",
    "* Create a summary data frame to hold the results\n",
    "\n",
    "\n",
    "* Optional: give the displayed data cleaner formatting\n",
    "\n",
    "\n",
    "* Display the summary data frame"
   ]
  },
  {
   "cell_type": "code",
   "execution_count": 8,
   "metadata": {},
   "outputs": [
    {
     "data": {
      "text/html": [
       "<style  type=\"text/css\" >\n",
       "</style><table id=\"T_43637e6f_0c57_11eb_81be_405bd843ed64\" ><thead>    <tr>        <th class=\"blank level0\" ></th>        <th class=\"col_heading level0 col0\" >Purchase Count</th>        <th class=\"col_heading level0 col1\" >Average Purchase Price</th>        <th class=\"col_heading level0 col2\" >Total Purchase Value</th>        <th class=\"col_heading level0 col3\" >Avg Total Purchase per Person</th>    </tr></thead><tbody>\n",
       "                <tr>\n",
       "                        <th id=\"T_43637e6f_0c57_11eb_81be_405bd843ed64level0_row0\" class=\"row_heading level0 row0\" >Female</th>\n",
       "                        <td id=\"T_43637e6f_0c57_11eb_81be_405bd843ed64row0_col0\" class=\"data row0 col0\" >113</td>\n",
       "                        <td id=\"T_43637e6f_0c57_11eb_81be_405bd843ed64row0_col1\" class=\"data row0 col1\" >$3.20</td>\n",
       "                        <td id=\"T_43637e6f_0c57_11eb_81be_405bd843ed64row0_col2\" class=\"data row0 col2\" >$361.94</td>\n",
       "                        <td id=\"T_43637e6f_0c57_11eb_81be_405bd843ed64row0_col3\" class=\"data row0 col3\" >$4.47</td>\n",
       "            </tr>\n",
       "            <tr>\n",
       "                        <th id=\"T_43637e6f_0c57_11eb_81be_405bd843ed64level0_row1\" class=\"row_heading level0 row1\" >Male</th>\n",
       "                        <td id=\"T_43637e6f_0c57_11eb_81be_405bd843ed64row1_col0\" class=\"data row1 col0\" >652</td>\n",
       "                        <td id=\"T_43637e6f_0c57_11eb_81be_405bd843ed64row1_col1\" class=\"data row1 col1\" >$3.02</td>\n",
       "                        <td id=\"T_43637e6f_0c57_11eb_81be_405bd843ed64row1_col2\" class=\"data row1 col2\" >$1967.64</td>\n",
       "                        <td id=\"T_43637e6f_0c57_11eb_81be_405bd843ed64row1_col3\" class=\"data row1 col3\" >$4.07</td>\n",
       "            </tr>\n",
       "            <tr>\n",
       "                        <th id=\"T_43637e6f_0c57_11eb_81be_405bd843ed64level0_row2\" class=\"row_heading level0 row2\" >Other / Non-Disclosed</th>\n",
       "                        <td id=\"T_43637e6f_0c57_11eb_81be_405bd843ed64row2_col0\" class=\"data row2 col0\" >15</td>\n",
       "                        <td id=\"T_43637e6f_0c57_11eb_81be_405bd843ed64row2_col1\" class=\"data row2 col1\" >$3.35</td>\n",
       "                        <td id=\"T_43637e6f_0c57_11eb_81be_405bd843ed64row2_col2\" class=\"data row2 col2\" >$50.19</td>\n",
       "                        <td id=\"T_43637e6f_0c57_11eb_81be_405bd843ed64row2_col3\" class=\"data row2 col3\" >$4.56</td>\n",
       "            </tr>\n",
       "    </tbody></table>"
      ],
      "text/plain": [
       "<pandas.io.formats.style.Styler at 0x17010949340>"
      ]
     },
     "execution_count": 8,
     "metadata": {},
     "output_type": "execute_result"
    }
   ],
   "source": [
    "purchasing_df = purchase_data[\"Gender\"].value_counts().to_frame()\n",
    "purchasing_df = purchasing_df.rename(columns={\"Gender\":\"Purchase Count\"})\n",
    "purchasing_df = purchasing_df.sort_index(ascending=True)\n",
    "purchase_mean = purchase_data.groupby([\"Gender\"]).mean()\n",
    "purchase_sum = purchase_data.groupby([\"Gender\"]).sum()\n",
    "avg_per_person = purchase_data.groupby([\"Gender\",\"SN\"]).sum()\n",
    "avg_per_person = avg_per_person.reset_index()\n",
    "avg_per_person = avg_per_person.groupby([\"Gender\"]).mean()\n",
    "purchasing_df[\"Average Purchase Price\"] = purchase_mean[\"Price\"]\n",
    "purchasing_df[\"Total Purchase Value\"] = purchase_sum[\"Price\"]\n",
    "purchasing_df[\"Avg Total Purchase per Person\"] = avg_per_person[\"Price\"]\n",
    "purchasing_df = purchasing_df.style.format({\"Average Purchase Price\":\"${:.2f}\",\n",
    "                                           \"Total Purchase Value\":\"${:.2f}\",\n",
    "                                           \"Avg Total Purchase per Person\":\"${:.2f}\"})\n",
    "purchasing_df"
   ]
  },
  {
   "cell_type": "markdown",
   "metadata": {},
   "source": [
    "## Age Demographics"
   ]
  },
  {
   "cell_type": "markdown",
   "metadata": {},
   "source": [
    "* Establish bins for ages\n",
    "\n",
    "\n",
    "* Categorize the existing players using the age bins. Hint: use pd.cut()\n",
    "\n",
    "\n",
    "* Calculate the numbers and percentages by age group\n",
    "\n",
    "\n",
    "* Create a summary data frame to hold the results\n",
    "\n",
    "\n",
    "* Optional: round the percentage column to two decimal points\n",
    "\n",
    "\n",
    "* Display Age Demographics Table"
   ]
  },
  {
   "cell_type": "code",
   "execution_count": 9,
   "metadata": {},
   "outputs": [],
   "source": [
    "bins = [0,9,14,19,24,29,34,39,max(purchase_data[\"Age\"])]\n",
    "age_groups = [\"<10\",\"10-14\",\"15-19\",\"20-24\",\"25-29\",\"30-34\",\"35-39\",\"40+\"]"
   ]
  },
  {
   "cell_type": "code",
   "execution_count": 10,
   "metadata": {},
   "outputs": [
    {
     "name": "stderr",
     "output_type": "stream",
     "text": [
      "<ipython-input-10-56c8305e7f13>:2: SettingWithCopyWarning: \n",
      "A value is trying to be set on a copy of a slice from a DataFrame.\n",
      "Try using .loc[row_indexer,col_indexer] = value instead\n",
      "\n",
      "See the caveats in the documentation: https://pandas.pydata.org/pandas-docs/stable/user_guide/indexing.html#returning-a-view-versus-a-copy\n",
      "  age_df[\"Ranges\"] = pd.cut(age_df[\"Age\"],bins,labels=age_groups, include_lowest=True)\n"
     ]
    },
    {
     "data": {
      "text/html": [
       "<style  type=\"text/css\" >\n",
       "</style><table id=\"T_4370ec8e_0c57_11eb_8aba_405bd843ed64\" ><thead>    <tr>        <th class=\"blank level0\" ></th>        <th class=\"col_heading level0 col0\" >Age</th>        <th class=\"col_heading level0 col1\" >Percentage of Players</th>    </tr>    <tr>        <th class=\"index_name level0\" >Ranges</th>        <th class=\"blank\" ></th>        <th class=\"blank\" ></th>    </tr></thead><tbody>\n",
       "                <tr>\n",
       "                        <th id=\"T_4370ec8e_0c57_11eb_8aba_405bd843ed64level0_row0\" class=\"row_heading level0 row0\" ><10</th>\n",
       "                        <td id=\"T_4370ec8e_0c57_11eb_8aba_405bd843ed64row0_col0\" class=\"data row0 col0\" >17</td>\n",
       "                        <td id=\"T_4370ec8e_0c57_11eb_8aba_405bd843ed64row0_col1\" class=\"data row0 col1\" >2.95%</td>\n",
       "            </tr>\n",
       "            <tr>\n",
       "                        <th id=\"T_4370ec8e_0c57_11eb_8aba_405bd843ed64level0_row1\" class=\"row_heading level0 row1\" >10-14</th>\n",
       "                        <td id=\"T_4370ec8e_0c57_11eb_8aba_405bd843ed64row1_col0\" class=\"data row1 col0\" >22</td>\n",
       "                        <td id=\"T_4370ec8e_0c57_11eb_8aba_405bd843ed64row1_col1\" class=\"data row1 col1\" >3.82%</td>\n",
       "            </tr>\n",
       "            <tr>\n",
       "                        <th id=\"T_4370ec8e_0c57_11eb_8aba_405bd843ed64level0_row2\" class=\"row_heading level0 row2\" >15-19</th>\n",
       "                        <td id=\"T_4370ec8e_0c57_11eb_8aba_405bd843ed64row2_col0\" class=\"data row2 col0\" >107</td>\n",
       "                        <td id=\"T_4370ec8e_0c57_11eb_8aba_405bd843ed64row2_col1\" class=\"data row2 col1\" >18.58%</td>\n",
       "            </tr>\n",
       "            <tr>\n",
       "                        <th id=\"T_4370ec8e_0c57_11eb_8aba_405bd843ed64level0_row3\" class=\"row_heading level0 row3\" >20-24</th>\n",
       "                        <td id=\"T_4370ec8e_0c57_11eb_8aba_405bd843ed64row3_col0\" class=\"data row3 col0\" >258</td>\n",
       "                        <td id=\"T_4370ec8e_0c57_11eb_8aba_405bd843ed64row3_col1\" class=\"data row3 col1\" >44.79%</td>\n",
       "            </tr>\n",
       "            <tr>\n",
       "                        <th id=\"T_4370ec8e_0c57_11eb_8aba_405bd843ed64level0_row4\" class=\"row_heading level0 row4\" >25-29</th>\n",
       "                        <td id=\"T_4370ec8e_0c57_11eb_8aba_405bd843ed64row4_col0\" class=\"data row4 col0\" >77</td>\n",
       "                        <td id=\"T_4370ec8e_0c57_11eb_8aba_405bd843ed64row4_col1\" class=\"data row4 col1\" >13.37%</td>\n",
       "            </tr>\n",
       "            <tr>\n",
       "                        <th id=\"T_4370ec8e_0c57_11eb_8aba_405bd843ed64level0_row5\" class=\"row_heading level0 row5\" >30-34</th>\n",
       "                        <td id=\"T_4370ec8e_0c57_11eb_8aba_405bd843ed64row5_col0\" class=\"data row5 col0\" >52</td>\n",
       "                        <td id=\"T_4370ec8e_0c57_11eb_8aba_405bd843ed64row5_col1\" class=\"data row5 col1\" >9.03%</td>\n",
       "            </tr>\n",
       "            <tr>\n",
       "                        <th id=\"T_4370ec8e_0c57_11eb_8aba_405bd843ed64level0_row6\" class=\"row_heading level0 row6\" >35-39</th>\n",
       "                        <td id=\"T_4370ec8e_0c57_11eb_8aba_405bd843ed64row6_col0\" class=\"data row6 col0\" >31</td>\n",
       "                        <td id=\"T_4370ec8e_0c57_11eb_8aba_405bd843ed64row6_col1\" class=\"data row6 col1\" >5.38%</td>\n",
       "            </tr>\n",
       "            <tr>\n",
       "                        <th id=\"T_4370ec8e_0c57_11eb_8aba_405bd843ed64level0_row7\" class=\"row_heading level0 row7\" >40+</th>\n",
       "                        <td id=\"T_4370ec8e_0c57_11eb_8aba_405bd843ed64row7_col0\" class=\"data row7 col0\" >12</td>\n",
       "                        <td id=\"T_4370ec8e_0c57_11eb_8aba_405bd843ed64row7_col1\" class=\"data row7 col1\" >2.08%</td>\n",
       "            </tr>\n",
       "    </tbody></table>"
      ],
      "text/plain": [
       "<pandas.io.formats.style.Styler at 0x1700d6e7490>"
      ]
     },
     "execution_count": 10,
     "metadata": {},
     "output_type": "execute_result"
    }
   ],
   "source": [
    "age_df = purchase_data.drop_duplicates(subset=[\"SN\"])\n",
    "age_df[\"Ranges\"] = pd.cut(age_df[\"Age\"],bins,labels=age_groups, include_lowest=True)\n",
    "age_df = age_df.groupby([\"Ranges\"]).count()\n",
    "age_df[\"Percentage of Players\"] = age_df[\"Age\"] / age_df[\"Age\"].sum()\n",
    "age_df_filter = age_df.filter([\"Age\",\"Percentage of Players\"])\n",
    "age_df_filter.rename(columns={\"Age\":\"Total Count\"})\n",
    "age_df.reset_index()\n",
    "age_df_filter = age_df_filter.style.format({\"Percentage of Players\":\"{:.2%}\"})\n",
    "age_df_filter"
   ]
  },
  {
   "cell_type": "markdown",
   "metadata": {},
   "source": [
    "## Purchasing Analysis (Age)"
   ]
  },
  {
   "cell_type": "markdown",
   "metadata": {},
   "source": [
    "* Bin the purchase_data data frame by age\n",
    "\n",
    "\n",
    "* Run basic calculations to obtain purchase count, avg. purchase price, avg. purchase total per person etc. in the table below\n",
    "\n",
    "\n",
    "* Create a summary data frame to hold the results\n",
    "\n",
    "\n",
    "* Optional: give the displayed data cleaner formatting\n",
    "\n",
    "\n",
    "* Display the summary data frame"
   ]
  },
  {
   "cell_type": "code",
   "execution_count": 11,
   "metadata": {
    "scrolled": true
   },
   "outputs": [
    {
     "data": {
      "text/html": [
       "<style  type=\"text/css\" >\n",
       "</style><table id=\"T_437c860e_0c57_11eb_99f4_405bd843ed64\" ><thead>    <tr>        <th class=\"blank level0\" ></th>        <th class=\"col_heading level0 col0\" >Purchase ID</th>        <th class=\"col_heading level0 col1\" >Average Purchase Price</th>        <th class=\"col_heading level0 col2\" >Total Purchase Value</th>        <th class=\"col_heading level0 col3\" >Avg Total Purchase per Person</th>    </tr>    <tr>        <th class=\"index_name level0\" >Ranges</th>        <th class=\"blank\" ></th>        <th class=\"blank\" ></th>        <th class=\"blank\" ></th>        <th class=\"blank\" ></th>    </tr></thead><tbody>\n",
       "                <tr>\n",
       "                        <th id=\"T_437c860e_0c57_11eb_99f4_405bd843ed64level0_row0\" class=\"row_heading level0 row0\" ><10</th>\n",
       "                        <td id=\"T_437c860e_0c57_11eb_99f4_405bd843ed64row0_col0\" class=\"data row0 col0\" >23</td>\n",
       "                        <td id=\"T_437c860e_0c57_11eb_99f4_405bd843ed64row0_col1\" class=\"data row0 col1\" >3.35%</td>\n",
       "                        <td id=\"T_437c860e_0c57_11eb_99f4_405bd843ed64row0_col2\" class=\"data row0 col2\" >$77.13</td>\n",
       "                        <td id=\"T_437c860e_0c57_11eb_99f4_405bd843ed64row0_col3\" class=\"data row0 col3\" >4.54%</td>\n",
       "            </tr>\n",
       "            <tr>\n",
       "                        <th id=\"T_437c860e_0c57_11eb_99f4_405bd843ed64level0_row1\" class=\"row_heading level0 row1\" >10-14</th>\n",
       "                        <td id=\"T_437c860e_0c57_11eb_99f4_405bd843ed64row1_col0\" class=\"data row1 col0\" >28</td>\n",
       "                        <td id=\"T_437c860e_0c57_11eb_99f4_405bd843ed64row1_col1\" class=\"data row1 col1\" >2.96%</td>\n",
       "                        <td id=\"T_437c860e_0c57_11eb_99f4_405bd843ed64row1_col2\" class=\"data row1 col2\" >$82.78</td>\n",
       "                        <td id=\"T_437c860e_0c57_11eb_99f4_405bd843ed64row1_col3\" class=\"data row1 col3\" >3.76%</td>\n",
       "            </tr>\n",
       "            <tr>\n",
       "                        <th id=\"T_437c860e_0c57_11eb_99f4_405bd843ed64level0_row2\" class=\"row_heading level0 row2\" >15-19</th>\n",
       "                        <td id=\"T_437c860e_0c57_11eb_99f4_405bd843ed64row2_col0\" class=\"data row2 col0\" >136</td>\n",
       "                        <td id=\"T_437c860e_0c57_11eb_99f4_405bd843ed64row2_col1\" class=\"data row2 col1\" >3.04%</td>\n",
       "                        <td id=\"T_437c860e_0c57_11eb_99f4_405bd843ed64row2_col2\" class=\"data row2 col2\" >$412.89</td>\n",
       "                        <td id=\"T_437c860e_0c57_11eb_99f4_405bd843ed64row2_col3\" class=\"data row2 col3\" >3.86%</td>\n",
       "            </tr>\n",
       "            <tr>\n",
       "                        <th id=\"T_437c860e_0c57_11eb_99f4_405bd843ed64level0_row3\" class=\"row_heading level0 row3\" >20-24</th>\n",
       "                        <td id=\"T_437c860e_0c57_11eb_99f4_405bd843ed64row3_col0\" class=\"data row3 col0\" >365</td>\n",
       "                        <td id=\"T_437c860e_0c57_11eb_99f4_405bd843ed64row3_col1\" class=\"data row3 col1\" >3.05%</td>\n",
       "                        <td id=\"T_437c860e_0c57_11eb_99f4_405bd843ed64row3_col2\" class=\"data row3 col2\" >$1114.06</td>\n",
       "                        <td id=\"T_437c860e_0c57_11eb_99f4_405bd843ed64row3_col3\" class=\"data row3 col3\" >4.32%</td>\n",
       "            </tr>\n",
       "            <tr>\n",
       "                        <th id=\"T_437c860e_0c57_11eb_99f4_405bd843ed64level0_row4\" class=\"row_heading level0 row4\" >25-29</th>\n",
       "                        <td id=\"T_437c860e_0c57_11eb_99f4_405bd843ed64row4_col0\" class=\"data row4 col0\" >101</td>\n",
       "                        <td id=\"T_437c860e_0c57_11eb_99f4_405bd843ed64row4_col1\" class=\"data row4 col1\" >2.90%</td>\n",
       "                        <td id=\"T_437c860e_0c57_11eb_99f4_405bd843ed64row4_col2\" class=\"data row4 col2\" >$293.00</td>\n",
       "                        <td id=\"T_437c860e_0c57_11eb_99f4_405bd843ed64row4_col3\" class=\"data row4 col3\" >3.81%</td>\n",
       "            </tr>\n",
       "            <tr>\n",
       "                        <th id=\"T_437c860e_0c57_11eb_99f4_405bd843ed64level0_row5\" class=\"row_heading level0 row5\" >30-34</th>\n",
       "                        <td id=\"T_437c860e_0c57_11eb_99f4_405bd843ed64row5_col0\" class=\"data row5 col0\" >73</td>\n",
       "                        <td id=\"T_437c860e_0c57_11eb_99f4_405bd843ed64row5_col1\" class=\"data row5 col1\" >2.93%</td>\n",
       "                        <td id=\"T_437c860e_0c57_11eb_99f4_405bd843ed64row5_col2\" class=\"data row5 col2\" >$214.00</td>\n",
       "                        <td id=\"T_437c860e_0c57_11eb_99f4_405bd843ed64row5_col3\" class=\"data row5 col3\" >4.12%</td>\n",
       "            </tr>\n",
       "            <tr>\n",
       "                        <th id=\"T_437c860e_0c57_11eb_99f4_405bd843ed64level0_row6\" class=\"row_heading level0 row6\" >35-39</th>\n",
       "                        <td id=\"T_437c860e_0c57_11eb_99f4_405bd843ed64row6_col0\" class=\"data row6 col0\" >41</td>\n",
       "                        <td id=\"T_437c860e_0c57_11eb_99f4_405bd843ed64row6_col1\" class=\"data row6 col1\" >3.60%</td>\n",
       "                        <td id=\"T_437c860e_0c57_11eb_99f4_405bd843ed64row6_col2\" class=\"data row6 col2\" >$147.67</td>\n",
       "                        <td id=\"T_437c860e_0c57_11eb_99f4_405bd843ed64row6_col3\" class=\"data row6 col3\" >4.76%</td>\n",
       "            </tr>\n",
       "            <tr>\n",
       "                        <th id=\"T_437c860e_0c57_11eb_99f4_405bd843ed64level0_row7\" class=\"row_heading level0 row7\" >40+</th>\n",
       "                        <td id=\"T_437c860e_0c57_11eb_99f4_405bd843ed64row7_col0\" class=\"data row7 col0\" >13</td>\n",
       "                        <td id=\"T_437c860e_0c57_11eb_99f4_405bd843ed64row7_col1\" class=\"data row7 col1\" >2.94%</td>\n",
       "                        <td id=\"T_437c860e_0c57_11eb_99f4_405bd843ed64row7_col2\" class=\"data row7 col2\" >$38.24</td>\n",
       "                        <td id=\"T_437c860e_0c57_11eb_99f4_405bd843ed64row7_col3\" class=\"data row7 col3\" >3.19%</td>\n",
       "            </tr>\n",
       "    </tbody></table>"
      ],
      "text/plain": [
       "<pandas.io.formats.style.Styler at 0x1700d6c8c40>"
      ]
     },
     "execution_count": 11,
     "metadata": {},
     "output_type": "execute_result"
    }
   ],
   "source": [
    "age_analysis_df = purchase_data\n",
    "age_analysis_df[\"Ranges\"] = pd.cut(age_analysis_df[\"Age\"],bins=bins,labels=age_groups,include_lowest=True)\n",
    "age_analysis_df = age_analysis_df.groupby([\"Ranges\"])\n",
    "age_analysis_clean = pd.DataFrame(age_analysis_df[\"Purchase ID\"].count())\n",
    "age_analysis_clean.rename(columns={\"Purchase ID\":\"Purchase Count\"})\n",
    "age_analysis_clean[\"Average Purchase Price\"] = age_analysis_df[\"Price\"].mean() /100\n",
    "age_analysis_clean[\"Total Purchase Value\"] = age_analysis_df[\"Price\"].sum()\n",
    "age_analysis_clean[\"Avg Total Purchase per Person\"] = (age_analysis_clean[\"Total Purchase Value\"] / age_df[\"SN\"]) / 100\n",
    "age_analysis_clean = age_analysis_clean.style.format({\"Average Purchase Price\":\"{:.2%}\",\n",
    "                                                     \"Total Purchase Value\":\"${:.2f}\",\n",
    "                                                     \"Avg Total Purchase per Person\":\"{:.2%}\"})\n",
    "age_analysis_clean"
   ]
  },
  {
   "cell_type": "markdown",
   "metadata": {},
   "source": [
    "## Top Spenders"
   ]
  },
  {
   "cell_type": "markdown",
   "metadata": {},
   "source": [
    "* Run basic calculations to obtain the results in the table below\n",
    "\n",
    "\n",
    "* Create a summary data frame to hold the results\n",
    "\n",
    "\n",
    "* Sort the total purchase value column in descending order\n",
    "\n",
    "\n",
    "* Optional: give the displayed data cleaner formatting\n",
    "\n",
    "\n",
    "* Display a preview of the summary data frame\n"
   ]
  },
  {
   "cell_type": "code",
   "execution_count": 12,
   "metadata": {},
   "outputs": [
    {
     "data": {
      "text/html": [
       "<style  type=\"text/css\" >\n",
       "</style><table id=\"T_4385b7d6_0c57_11eb_9eae_405bd843ed64\" ><thead>    <tr>        <th class=\"blank level0\" ></th>        <th class=\"col_heading level0 col0\" >Purchase Count</th>        <th class=\"col_heading level0 col1\" >Average Purchase Price</th>        <th class=\"col_heading level0 col2\" >Total Purchase Value</th>    </tr>    <tr>        <th class=\"index_name level0\" >SN</th>        <th class=\"blank\" ></th>        <th class=\"blank\" ></th>        <th class=\"blank\" ></th>    </tr></thead><tbody>\n",
       "                <tr>\n",
       "                        <th id=\"T_4385b7d6_0c57_11eb_9eae_405bd843ed64level0_row0\" class=\"row_heading level0 row0\" >Lisosia93</th>\n",
       "                        <td id=\"T_4385b7d6_0c57_11eb_9eae_405bd843ed64row0_col0\" class=\"data row0 col0\" >5</td>\n",
       "                        <td id=\"T_4385b7d6_0c57_11eb_9eae_405bd843ed64row0_col1\" class=\"data row0 col1\" >$3.79</td>\n",
       "                        <td id=\"T_4385b7d6_0c57_11eb_9eae_405bd843ed64row0_col2\" class=\"data row0 col2\" >$18.96</td>\n",
       "            </tr>\n",
       "            <tr>\n",
       "                        <th id=\"T_4385b7d6_0c57_11eb_9eae_405bd843ed64level0_row1\" class=\"row_heading level0 row1\" >Idastidru52</th>\n",
       "                        <td id=\"T_4385b7d6_0c57_11eb_9eae_405bd843ed64row1_col0\" class=\"data row1 col0\" >4</td>\n",
       "                        <td id=\"T_4385b7d6_0c57_11eb_9eae_405bd843ed64row1_col1\" class=\"data row1 col1\" >$3.86</td>\n",
       "                        <td id=\"T_4385b7d6_0c57_11eb_9eae_405bd843ed64row1_col2\" class=\"data row1 col2\" >$15.45</td>\n",
       "            </tr>\n",
       "            <tr>\n",
       "                        <th id=\"T_4385b7d6_0c57_11eb_9eae_405bd843ed64level0_row2\" class=\"row_heading level0 row2\" >Chamjask73</th>\n",
       "                        <td id=\"T_4385b7d6_0c57_11eb_9eae_405bd843ed64row2_col0\" class=\"data row2 col0\" >3</td>\n",
       "                        <td id=\"T_4385b7d6_0c57_11eb_9eae_405bd843ed64row2_col1\" class=\"data row2 col1\" >$4.61</td>\n",
       "                        <td id=\"T_4385b7d6_0c57_11eb_9eae_405bd843ed64row2_col2\" class=\"data row2 col2\" >$13.83</td>\n",
       "            </tr>\n",
       "            <tr>\n",
       "                        <th id=\"T_4385b7d6_0c57_11eb_9eae_405bd843ed64level0_row3\" class=\"row_heading level0 row3\" >Iral74</th>\n",
       "                        <td id=\"T_4385b7d6_0c57_11eb_9eae_405bd843ed64row3_col0\" class=\"data row3 col0\" >4</td>\n",
       "                        <td id=\"T_4385b7d6_0c57_11eb_9eae_405bd843ed64row3_col1\" class=\"data row3 col1\" >$3.40</td>\n",
       "                        <td id=\"T_4385b7d6_0c57_11eb_9eae_405bd843ed64row3_col2\" class=\"data row3 col2\" >$13.62</td>\n",
       "            </tr>\n",
       "            <tr>\n",
       "                        <th id=\"T_4385b7d6_0c57_11eb_9eae_405bd843ed64level0_row4\" class=\"row_heading level0 row4\" >Iskadarya95</th>\n",
       "                        <td id=\"T_4385b7d6_0c57_11eb_9eae_405bd843ed64row4_col0\" class=\"data row4 col0\" >3</td>\n",
       "                        <td id=\"T_4385b7d6_0c57_11eb_9eae_405bd843ed64row4_col1\" class=\"data row4 col1\" >$4.37</td>\n",
       "                        <td id=\"T_4385b7d6_0c57_11eb_9eae_405bd843ed64row4_col2\" class=\"data row4 col2\" >$13.10</td>\n",
       "            </tr>\n",
       "    </tbody></table>"
      ],
      "text/plain": [
       "<pandas.io.formats.style.Styler at 0x1700f77c970>"
      ]
     },
     "execution_count": 12,
     "metadata": {},
     "output_type": "execute_result"
    }
   ],
   "source": [
    "spenders_df = purchase_data[[\"SN\",\"Item ID\",\"Price\"]]\n",
    "spenders_df = spenders_df.groupby([\"SN\"])\n",
    "spenders_clean = pd.DataFrame(spenders_df[\"Item ID\"].count())\n",
    "spenders_clean = spenders_clean.rename(columns={\"Item ID\":\"Purchase Count\"})\n",
    "spenders_clean[\"Average Purchase Price\"] = spenders_df[\"Price\"].mean()\n",
    "spenders_clean[\"Total Purchase Value\"] = spenders_df[\"Price\"].sum()\n",
    "spenders_clean = spenders_clean.nlargest(5,\"Total Purchase Value\")\n",
    "spenders_clean = spenders_clean.style.format({\"Average Purchase Price\":\"${:.2f}\",\n",
    "                                             \"Total Purchase Value\":\"${:.2f}\"})\n",
    "spenders_clean"
   ]
  },
  {
   "cell_type": "markdown",
   "metadata": {},
   "source": [
    "## Most Popular Items"
   ]
  },
  {
   "cell_type": "code",
   "execution_count": 13,
   "metadata": {},
   "outputs": [
    {
     "data": {
      "text/html": [
       "<style  type=\"text/css\" >\n",
       "</style><table id=\"T_438ee02e_0c57_11eb_bb1a_405bd843ed64\" ><thead>    <tr>        <th class=\"blank\" ></th>        <th class=\"blank level0\" ></th>        <th class=\"col_heading level0 col0\" >Purchase Count</th>        <th class=\"col_heading level0 col1\" >Item Price</th>        <th class=\"col_heading level0 col2\" >Total Purchase Value</th>    </tr>    <tr>        <th class=\"index_name level0\" >Item ID</th>        <th class=\"index_name level1\" >Item Name</th>        <th class=\"blank\" ></th>        <th class=\"blank\" ></th>        <th class=\"blank\" ></th>    </tr></thead><tbody>\n",
       "                <tr>\n",
       "                        <th id=\"T_438ee02e_0c57_11eb_bb1a_405bd843ed64level0_row0\" class=\"row_heading level0 row0\" >92</th>\n",
       "                        <th id=\"T_438ee02e_0c57_11eb_bb1a_405bd843ed64level1_row0\" class=\"row_heading level1 row0\" >Final Critic</th>\n",
       "                        <td id=\"T_438ee02e_0c57_11eb_bb1a_405bd843ed64row0_col0\" class=\"data row0 col0\" >13</td>\n",
       "                        <td id=\"T_438ee02e_0c57_11eb_bb1a_405bd843ed64row0_col1\" class=\"data row0 col1\" >$4.61</td>\n",
       "                        <td id=\"T_438ee02e_0c57_11eb_bb1a_405bd843ed64row0_col2\" class=\"data row0 col2\" >$59.99</td>\n",
       "            </tr>\n",
       "            <tr>\n",
       "                        <th id=\"T_438ee02e_0c57_11eb_bb1a_405bd843ed64level0_row1\" class=\"row_heading level0 row1\" >178</th>\n",
       "                        <th id=\"T_438ee02e_0c57_11eb_bb1a_405bd843ed64level1_row1\" class=\"row_heading level1 row1\" >Oathbreaker, Last Hope of the Breaking Storm</th>\n",
       "                        <td id=\"T_438ee02e_0c57_11eb_bb1a_405bd843ed64row1_col0\" class=\"data row1 col0\" >12</td>\n",
       "                        <td id=\"T_438ee02e_0c57_11eb_bb1a_405bd843ed64row1_col1\" class=\"data row1 col1\" >$4.23</td>\n",
       "                        <td id=\"T_438ee02e_0c57_11eb_bb1a_405bd843ed64row1_col2\" class=\"data row1 col2\" >$50.76</td>\n",
       "            </tr>\n",
       "            <tr>\n",
       "                        <th id=\"T_438ee02e_0c57_11eb_bb1a_405bd843ed64level0_row2\" class=\"row_heading level0 row2\" >145</th>\n",
       "                        <th id=\"T_438ee02e_0c57_11eb_bb1a_405bd843ed64level1_row2\" class=\"row_heading level1 row2\" >Fiery Glass Crusader</th>\n",
       "                        <td id=\"T_438ee02e_0c57_11eb_bb1a_405bd843ed64row2_col0\" class=\"data row2 col0\" >9</td>\n",
       "                        <td id=\"T_438ee02e_0c57_11eb_bb1a_405bd843ed64row2_col1\" class=\"data row2 col1\" >$4.58</td>\n",
       "                        <td id=\"T_438ee02e_0c57_11eb_bb1a_405bd843ed64row2_col2\" class=\"data row2 col2\" >$41.22</td>\n",
       "            </tr>\n",
       "            <tr>\n",
       "                        <th id=\"T_438ee02e_0c57_11eb_bb1a_405bd843ed64level0_row3\" class=\"row_heading level0 row3\" >132</th>\n",
       "                        <th id=\"T_438ee02e_0c57_11eb_bb1a_405bd843ed64level1_row3\" class=\"row_heading level1 row3\" >Persuasion</th>\n",
       "                        <td id=\"T_438ee02e_0c57_11eb_bb1a_405bd843ed64row3_col0\" class=\"data row3 col0\" >9</td>\n",
       "                        <td id=\"T_438ee02e_0c57_11eb_bb1a_405bd843ed64row3_col1\" class=\"data row3 col1\" >$3.22</td>\n",
       "                        <td id=\"T_438ee02e_0c57_11eb_bb1a_405bd843ed64row3_col2\" class=\"data row3 col2\" >$28.99</td>\n",
       "            </tr>\n",
       "            <tr>\n",
       "                        <th id=\"T_438ee02e_0c57_11eb_bb1a_405bd843ed64level0_row4\" class=\"row_heading level0 row4\" >108</th>\n",
       "                        <th id=\"T_438ee02e_0c57_11eb_bb1a_405bd843ed64level1_row4\" class=\"row_heading level1 row4\" >Extraction, Quickblade Of Trembling Hands</th>\n",
       "                        <td id=\"T_438ee02e_0c57_11eb_bb1a_405bd843ed64row4_col0\" class=\"data row4 col0\" >9</td>\n",
       "                        <td id=\"T_438ee02e_0c57_11eb_bb1a_405bd843ed64row4_col1\" class=\"data row4 col1\" >$3.53</td>\n",
       "                        <td id=\"T_438ee02e_0c57_11eb_bb1a_405bd843ed64row4_col2\" class=\"data row4 col2\" >$31.77</td>\n",
       "            </tr>\n",
       "    </tbody></table>"
      ],
      "text/plain": [
       "<pandas.io.formats.style.Styler at 0x1700f77c160>"
      ]
     },
     "execution_count": 13,
     "metadata": {},
     "output_type": "execute_result"
    }
   ],
   "source": [
    "popular_df = purchase_data[[\"Item ID\",\"Item Name\",\"Price\"]]\n",
    "popular_df = popular_df.groupby([\"Item ID\",\"Item Name\"])\n",
    "popular_clean = pd.DataFrame(popular_df[\"Price\"].count())\n",
    "popular_clean = popular_clean.rename(columns={\"Price\":\"Purchase Count\"})\n",
    "popular_clean[\"Item Price\"] = popular_df[\"Price\"].sum() / popular_df[\"Price\"].count()\n",
    "popular_clean[\"Total Purchase Value\"] = popular_df[\"Price\"].sum()\n",
    "popular_clean = popular_clean.sort_values(by=\"Purchase Count\", ascending=False)\n",
    "popular_summary = popular_clean.head(5).style.format({\"Item Price\":\"${:.2f}\",\n",
    "                          \"Total Purchase Value\":\"${:.2f}\"})\n",
    "popular_summary"
   ]
  },
  {
   "cell_type": "markdown",
   "metadata": {},
   "source": [
    "## Most Profitable Items"
   ]
  },
  {
   "cell_type": "markdown",
   "metadata": {},
   "source": [
    "* Sort the above table by total purchase value in descending order\n",
    "\n",
    "\n",
    "* Optional: give the displayed data cleaner formatting\n",
    "\n",
    "\n",
    "* Display a preview of the data frame\n",
    "\n"
   ]
  },
  {
   "cell_type": "code",
   "execution_count": 14,
   "metadata": {},
   "outputs": [
    {
     "data": {
      "text/html": [
       "<style  type=\"text/css\" >\n",
       "</style><table id=\"T_43945ecb_0c57_11eb_ae54_405bd843ed64\" ><thead>    <tr>        <th class=\"blank\" ></th>        <th class=\"blank level0\" ></th>        <th class=\"col_heading level0 col0\" >Purchase Count</th>        <th class=\"col_heading level0 col1\" >Item Price</th>        <th class=\"col_heading level0 col2\" >Total Purchase Value</th>    </tr>    <tr>        <th class=\"index_name level0\" >Item ID</th>        <th class=\"index_name level1\" >Item Name</th>        <th class=\"blank\" ></th>        <th class=\"blank\" ></th>        <th class=\"blank\" ></th>    </tr></thead><tbody>\n",
       "                <tr>\n",
       "                        <th id=\"T_43945ecb_0c57_11eb_ae54_405bd843ed64level0_row0\" class=\"row_heading level0 row0\" >92</th>\n",
       "                        <th id=\"T_43945ecb_0c57_11eb_ae54_405bd843ed64level1_row0\" class=\"row_heading level1 row0\" >Final Critic</th>\n",
       "                        <td id=\"T_43945ecb_0c57_11eb_ae54_405bd843ed64row0_col0\" class=\"data row0 col0\" >13</td>\n",
       "                        <td id=\"T_43945ecb_0c57_11eb_ae54_405bd843ed64row0_col1\" class=\"data row0 col1\" >$4.61</td>\n",
       "                        <td id=\"T_43945ecb_0c57_11eb_ae54_405bd843ed64row0_col2\" class=\"data row0 col2\" >$59.99</td>\n",
       "            </tr>\n",
       "            <tr>\n",
       "                        <th id=\"T_43945ecb_0c57_11eb_ae54_405bd843ed64level0_row1\" class=\"row_heading level0 row1\" >178</th>\n",
       "                        <th id=\"T_43945ecb_0c57_11eb_ae54_405bd843ed64level1_row1\" class=\"row_heading level1 row1\" >Oathbreaker, Last Hope of the Breaking Storm</th>\n",
       "                        <td id=\"T_43945ecb_0c57_11eb_ae54_405bd843ed64row1_col0\" class=\"data row1 col0\" >12</td>\n",
       "                        <td id=\"T_43945ecb_0c57_11eb_ae54_405bd843ed64row1_col1\" class=\"data row1 col1\" >$4.23</td>\n",
       "                        <td id=\"T_43945ecb_0c57_11eb_ae54_405bd843ed64row1_col2\" class=\"data row1 col2\" >$50.76</td>\n",
       "            </tr>\n",
       "            <tr>\n",
       "                        <th id=\"T_43945ecb_0c57_11eb_ae54_405bd843ed64level0_row2\" class=\"row_heading level0 row2\" >82</th>\n",
       "                        <th id=\"T_43945ecb_0c57_11eb_ae54_405bd843ed64level1_row2\" class=\"row_heading level1 row2\" >Nirvana</th>\n",
       "                        <td id=\"T_43945ecb_0c57_11eb_ae54_405bd843ed64row2_col0\" class=\"data row2 col0\" >9</td>\n",
       "                        <td id=\"T_43945ecb_0c57_11eb_ae54_405bd843ed64row2_col1\" class=\"data row2 col1\" >$4.90</td>\n",
       "                        <td id=\"T_43945ecb_0c57_11eb_ae54_405bd843ed64row2_col2\" class=\"data row2 col2\" >$44.10</td>\n",
       "            </tr>\n",
       "            <tr>\n",
       "                        <th id=\"T_43945ecb_0c57_11eb_ae54_405bd843ed64level0_row3\" class=\"row_heading level0 row3\" >145</th>\n",
       "                        <th id=\"T_43945ecb_0c57_11eb_ae54_405bd843ed64level1_row3\" class=\"row_heading level1 row3\" >Fiery Glass Crusader</th>\n",
       "                        <td id=\"T_43945ecb_0c57_11eb_ae54_405bd843ed64row3_col0\" class=\"data row3 col0\" >9</td>\n",
       "                        <td id=\"T_43945ecb_0c57_11eb_ae54_405bd843ed64row3_col1\" class=\"data row3 col1\" >$4.58</td>\n",
       "                        <td id=\"T_43945ecb_0c57_11eb_ae54_405bd843ed64row3_col2\" class=\"data row3 col2\" >$41.22</td>\n",
       "            </tr>\n",
       "            <tr>\n",
       "                        <th id=\"T_43945ecb_0c57_11eb_ae54_405bd843ed64level0_row4\" class=\"row_heading level0 row4\" >103</th>\n",
       "                        <th id=\"T_43945ecb_0c57_11eb_ae54_405bd843ed64level1_row4\" class=\"row_heading level1 row4\" >Singed Scalpel</th>\n",
       "                        <td id=\"T_43945ecb_0c57_11eb_ae54_405bd843ed64row4_col0\" class=\"data row4 col0\" >8</td>\n",
       "                        <td id=\"T_43945ecb_0c57_11eb_ae54_405bd843ed64row4_col1\" class=\"data row4 col1\" >$4.35</td>\n",
       "                        <td id=\"T_43945ecb_0c57_11eb_ae54_405bd843ed64row4_col2\" class=\"data row4 col2\" >$34.80</td>\n",
       "            </tr>\n",
       "    </tbody></table>"
      ],
      "text/plain": [
       "<pandas.io.formats.style.Styler at 0x17010952f70>"
      ]
     },
     "execution_count": 14,
     "metadata": {},
     "output_type": "execute_result"
    }
   ],
   "source": [
    "profit_items = popular_clean.sort_values(by=\"Total Purchase Value\", ascending=False)\n",
    "profit_items = profit_items.head(5).style.format({\"Item Price\":\"${:.2f}\",\n",
    "                          \"Total Purchase Value\":\"${:.2f}\"})\n",
    "profit_items"
   ]
  }
 ],
 "metadata": {
  "kernelspec": {
   "display_name": "Python 3",
   "language": "python",
   "name": "python3"
  },
  "language_info": {
   "codemirror_mode": {
    "name": "ipython",
    "version": 3
   },
   "file_extension": ".py",
   "mimetype": "text/x-python",
   "name": "python",
   "nbconvert_exporter": "python",
   "pygments_lexer": "ipython3",
   "version": "3.8.3"
  }
 },
 "nbformat": 4,
 "nbformat_minor": 4
}
